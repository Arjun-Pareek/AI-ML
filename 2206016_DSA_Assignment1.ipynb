{
 "cells": [
  {
   "cell_type": "code",
   "execution_count": 7,
   "id": "2e4a5196-e923-4f10-96c2-54b9005cd81a",
   "metadata": {},
   "outputs": [],
   "source": [
    "import pandas as pd\n",
    "import numpy as np\n",
    "import seaborn as sns\n",
    "import matplotlib as plt\n",
    "import random"
   ]
  },
  {
   "cell_type": "code",
   "execution_count": 2,
   "id": "17178b6d-84c1-4242-b5c2-1a4fb51a42d4",
   "metadata": {},
   "outputs": [
    {
     "data": {
      "text/plain": [
       "(100, 1)"
      ]
     },
     "execution_count": 2,
     "metadata": {},
     "output_type": "execute_result"
    }
   ],
   "source": [
    "x=pd.read_csv('LinearX.csv')\n",
    "x.shape"
   ]
  },
  {
   "cell_type": "code",
   "execution_count": 3,
   "id": "bef787f8-1604-4260-a1af-6b2ab8ed9812",
   "metadata": {},
   "outputs": [
    {
     "data": {
      "text/plain": [
       "(100, 1)"
      ]
     },
     "execution_count": 3,
     "metadata": {},
     "output_type": "execute_result"
    }
   ],
   "source": [
    "y=pd.read_csv('LinearY.csv')\n",
    "y.shape"
   ]
  },
  {
   "cell_type": "code",
   "execution_count": 4,
   "id": "a4006693-1803-4e47-8bde-94e8517fe0ef",
   "metadata": {},
   "outputs": [
    {
     "data": {
      "text/html": [
       "<div>\n",
       "<style scoped>\n",
       "    .dataframe tbody tr th:only-of-type {\n",
       "        vertical-align: middle;\n",
       "    }\n",
       "\n",
       "    .dataframe tbody tr th {\n",
       "        vertical-align: top;\n",
       "    }\n",
       "\n",
       "    .dataframe thead th {\n",
       "        text-align: right;\n",
       "    }\n",
       "</style>\n",
       "<table border=\"1\" class=\"dataframe\">\n",
       "  <thead>\n",
       "    <tr style=\"text-align: right;\">\n",
       "      <th></th>\n",
       "      <th>Y</th>\n",
       "    </tr>\n",
       "  </thead>\n",
       "  <tbody>\n",
       "    <tr>\n",
       "      <th>0</th>\n",
       "      <td>0.99523</td>\n",
       "    </tr>\n",
       "    <tr>\n",
       "      <th>1</th>\n",
       "      <td>0.99007</td>\n",
       "    </tr>\n",
       "    <tr>\n",
       "      <th>2</th>\n",
       "      <td>0.99769</td>\n",
       "    </tr>\n",
       "    <tr>\n",
       "      <th>3</th>\n",
       "      <td>0.99386</td>\n",
       "    </tr>\n",
       "    <tr>\n",
       "      <th>4</th>\n",
       "      <td>0.99508</td>\n",
       "    </tr>\n",
       "    <tr>\n",
       "      <th>...</th>\n",
       "      <td>...</td>\n",
       "    </tr>\n",
       "    <tr>\n",
       "      <th>95</th>\n",
       "      <td>0.99620</td>\n",
       "    </tr>\n",
       "    <tr>\n",
       "      <th>96</th>\n",
       "      <td>0.99760</td>\n",
       "    </tr>\n",
       "    <tr>\n",
       "      <th>97</th>\n",
       "      <td>0.99464</td>\n",
       "    </tr>\n",
       "    <tr>\n",
       "      <th>98</th>\n",
       "      <td>0.99830</td>\n",
       "    </tr>\n",
       "    <tr>\n",
       "      <th>99</th>\n",
       "      <td>0.99670</td>\n",
       "    </tr>\n",
       "  </tbody>\n",
       "</table>\n",
       "<p>100 rows × 1 columns</p>\n",
       "</div>"
      ],
      "text/plain": [
       "          Y\n",
       "0   0.99523\n",
       "1   0.99007\n",
       "2   0.99769\n",
       "3   0.99386\n",
       "4   0.99508\n",
       "..      ...\n",
       "95  0.99620\n",
       "96  0.99760\n",
       "97  0.99464\n",
       "98  0.99830\n",
       "99  0.99670\n",
       "\n",
       "[100 rows x 1 columns]"
      ]
     },
     "execution_count": 4,
     "metadata": {},
     "output_type": "execute_result"
    }
   ],
   "source": [
    "y"
   ]
  },
  {
   "cell_type": "code",
   "execution_count": 5,
   "id": "09c01918-a283-4fdd-9156-5f8652221aae",
   "metadata": {},
   "outputs": [],
   "source": [
    "def train_test_split(x,y,test_size):\n",
    "    if isinstance (test_size,float):\n",
    "        test_size=round(test_size*len(x))\n",
    "    indicies = x.index.tolist()\n",
    "    test_indicies=random.sample(population=indicies,k=test_size)\n",
    "    x_test=x.loc[test_indicies]\n",
    "    y_test=y.loc[test_indicies]\n",
    "    x_train=x.drop(test_indicies)\n",
    "    y_train=y.drop(test_indicies)\n",
    "    \n",
    "    return x_train,x_test,y_train,y_test"
   ]
  },
  {
   "cell_type": "code",
   "execution_count": 6,
   "id": "2c5e1e34-290e-4051-b17b-87295c73387d",
   "metadata": {},
   "outputs": [],
   "source": [
    "random.seed(0)\n",
    "x_train,x_test,y_train,y_test = train_test_split(x,y,0.2)"
   ]
  },
  {
   "cell_type": "code",
   "execution_count": 7,
   "id": "61e25e41-13ff-489e-bb01-7b93bf9f5fe4",
   "metadata": {},
   "outputs": [
    {
     "data": {
      "text/plain": [
       "(80, 1)"
      ]
     },
     "execution_count": 7,
     "metadata": {},
     "output_type": "execute_result"
    }
   ],
   "source": [
    "x_train.shape"
   ]
  },
  {
   "cell_type": "code",
   "execution_count": 8,
   "id": "9b8b63c6-bdcf-4dc3-9b93-70aabc2399ee",
   "metadata": {},
   "outputs": [
    {
     "data": {
      "text/plain": [
       "(20, 1)"
      ]
     },
     "execution_count": 8,
     "metadata": {},
     "output_type": "execute_result"
    }
   ],
   "source": [
    "x_test.shape"
   ]
  },
  {
   "cell_type": "code",
   "execution_count": 9,
   "id": "68489ec3-41ec-4ce5-a8ed-b3f91aac9ca3",
   "metadata": {},
   "outputs": [
    {
     "data": {
      "text/plain": [
       "(80, 1)"
      ]
     },
     "execution_count": 9,
     "metadata": {},
     "output_type": "execute_result"
    }
   ],
   "source": [
    "y_train.shape"
   ]
  },
  {
   "cell_type": "code",
   "execution_count": 10,
   "id": "25055844-3e5e-4e77-b95d-83de2446035c",
   "metadata": {},
   "outputs": [
    {
     "data": {
      "text/plain": [
       "(20, 1)"
      ]
     },
     "execution_count": 10,
     "metadata": {},
     "output_type": "execute_result"
    }
   ],
   "source": [
    "y_test.shape"
   ]
  },
  {
   "cell_type": "code",
   "execution_count": 11,
   "id": "445ace75-5ae3-4b32-af1c-50687bf2e754",
   "metadata": {},
   "outputs": [
    {
     "data": {
      "text/html": [
       "<div>\n",
       "<style scoped>\n",
       "    .dataframe tbody tr th:only-of-type {\n",
       "        vertical-align: middle;\n",
       "    }\n",
       "\n",
       "    .dataframe tbody tr th {\n",
       "        vertical-align: top;\n",
       "    }\n",
       "\n",
       "    .dataframe thead th {\n",
       "        text-align: right;\n",
       "    }\n",
       "</style>\n",
       "<table border=\"1\" class=\"dataframe\">\n",
       "  <thead>\n",
       "    <tr style=\"text-align: right;\">\n",
       "      <th></th>\n",
       "      <th>Y</th>\n",
       "    </tr>\n",
       "  </thead>\n",
       "  <tbody>\n",
       "    <tr>\n",
       "      <th>49</th>\n",
       "      <td>0.99520</td>\n",
       "    </tr>\n",
       "    <tr>\n",
       "      <th>97</th>\n",
       "      <td>0.99464</td>\n",
       "    </tr>\n",
       "    <tr>\n",
       "      <th>53</th>\n",
       "      <td>0.99780</td>\n",
       "    </tr>\n",
       "    <tr>\n",
       "      <th>5</th>\n",
       "      <td>0.99630</td>\n",
       "    </tr>\n",
       "    <tr>\n",
       "      <th>33</th>\n",
       "      <td>0.99760</td>\n",
       "    </tr>\n",
       "  </tbody>\n",
       "</table>\n",
       "</div>"
      ],
      "text/plain": [
       "          Y\n",
       "49  0.99520\n",
       "97  0.99464\n",
       "53  0.99780\n",
       "5   0.99630\n",
       "33  0.99760"
      ]
     },
     "execution_count": 11,
     "metadata": {},
     "output_type": "execute_result"
    }
   ],
   "source": [
    "y_test.head()"
   ]
  },
  {
   "cell_type": "code",
   "execution_count": 12,
   "id": "298157b7-197f-4268-95e3-81ea66a30944",
   "metadata": {},
   "outputs": [
    {
     "data": {
      "text/html": [
       "<div>\n",
       "<style scoped>\n",
       "    .dataframe tbody tr th:only-of-type {\n",
       "        vertical-align: middle;\n",
       "    }\n",
       "\n",
       "    .dataframe tbody tr th {\n",
       "        vertical-align: top;\n",
       "    }\n",
       "\n",
       "    .dataframe thead th {\n",
       "        text-align: right;\n",
       "    }\n",
       "</style>\n",
       "<table border=\"1\" class=\"dataframe\">\n",
       "  <thead>\n",
       "    <tr style=\"text-align: right;\">\n",
       "      <th></th>\n",
       "      <th>Y</th>\n",
       "    </tr>\n",
       "  </thead>\n",
       "  <tbody>\n",
       "    <tr>\n",
       "      <th>0</th>\n",
       "      <td>0.99523</td>\n",
       "    </tr>\n",
       "    <tr>\n",
       "      <th>1</th>\n",
       "      <td>0.99007</td>\n",
       "    </tr>\n",
       "    <tr>\n",
       "      <th>2</th>\n",
       "      <td>0.99769</td>\n",
       "    </tr>\n",
       "    <tr>\n",
       "      <th>3</th>\n",
       "      <td>0.99386</td>\n",
       "    </tr>\n",
       "    <tr>\n",
       "      <th>4</th>\n",
       "      <td>0.99508</td>\n",
       "    </tr>\n",
       "  </tbody>\n",
       "</table>\n",
       "</div>"
      ],
      "text/plain": [
       "         Y\n",
       "0  0.99523\n",
       "1  0.99007\n",
       "2  0.99769\n",
       "3  0.99386\n",
       "4  0.99508"
      ]
     },
     "execution_count": 12,
     "metadata": {},
     "output_type": "execute_result"
    }
   ],
   "source": [
    "y_train.head()"
   ]
  },
  {
   "cell_type": "code",
   "execution_count": 104,
   "id": "6b44c09d-f6d4-4bfe-8f00-6ab5cf283802",
   "metadata": {},
   "outputs": [],
   "source": [
    "class Linear_Regression:\n",
    "    def __init__(self,learnrate = .01, tolerance = .000000001, iterations = 10000):\n",
    "\n",
    "        self.lr = learnrate\n",
    "        self.tolerance = tolerance\n",
    "        self.iterations = iterations\n",
    "        self.theta0=0\n",
    "        self.theta1=0\n",
    "        self.cost_history=[]\n",
    "        \n",
    "    def fit(self,x, y):\n",
    "        m=len(x)\n",
    "        converged=False\n",
    "\n",
    "        for i in range(self.iterations):\n",
    "            y_pred = self.theta0 + self.theta1*x\n",
    "\n",
    "            cost = (1/m) * np.sum((y-y_pred) ** 2)\n",
    "            self.cost_history.append(cost)\n",
    "\n",
    "            while not converged:\n",
    "\n",
    "                d_theta0=d_theta0 = -(2 / m) * np.sum(y - y_pred)\n",
    "                d_theta1=d_theta1 = -(2 / m) * np.sum((y - y_pred) * x)\n",
    "    \n",
    "                self.theta0 -= self.lr * d_theta0\n",
    "                self.theta1 -= self.lr * d_theta1\n",
    "\n",
    "                y_pred = self.theta0 + self.theta1*x\n",
    "                new_cost= (1/m) * np.sum((y-y_pred) ** 2)\n",
    "\n",
    "                if abs((cost - new_cost)/cost) <= self.tolerance:\n",
    "                    converged = True\n",
    "\n",
    "    def predict(self,x):\n",
    "        y_pred=list(filter(lambda n : self.theta0 + self.theta1*n ,x))\n",
    "        return y_pred\n"
   ]
  },
  {
   "cell_type": "code",
   "execution_count": 106,
   "id": "d64ee376-de41-466c-9774-230dea73b241",
   "metadata": {},
   "outputs": [],
   "source": [
    "model= Linear_Regression()"
   ]
  },
  {
   "cell_type": "code",
   "execution_count": 108,
   "id": "ac3e7971-852b-4dd9-b738-144ba55feee4",
   "metadata": {},
   "outputs": [
    {
     "name": "stderr",
     "output_type": "stream",
     "text": [
      "C:\\Users\\KIIT\\anaconda3\\Lib\\site-packages\\numpy\\core\\fromnumeric.py:86: FutureWarning: The behavior of DataFrame.sum with axis=None is deprecated, in a future version this will reduce over both axes and return a scalar. To retain the old behavior, pass axis=0 (or do not pass axis)\n",
      "  return reduction(axis=axis, out=out, **passkwargs)\n",
      "C:\\Users\\KIIT\\anaconda3\\Lib\\site-packages\\numpy\\core\\fromnumeric.py:86: FutureWarning: The behavior of DataFrame.sum with axis=None is deprecated, in a future version this will reduce over both axes and return a scalar. To retain the old behavior, pass axis=0 (or do not pass axis)\n",
      "  return reduction(axis=axis, out=out, **passkwargs)\n",
      "C:\\Users\\KIIT\\anaconda3\\Lib\\site-packages\\numpy\\core\\fromnumeric.py:86: FutureWarning: The behavior of DataFrame.sum with axis=None is deprecated, in a future version this will reduce over both axes and return a scalar. To retain the old behavior, pass axis=0 (or do not pass axis)\n",
      "  return reduction(axis=axis, out=out, **passkwargs)\n",
      "C:\\Users\\KIIT\\anaconda3\\Lib\\site-packages\\numpy\\core\\fromnumeric.py:86: FutureWarning: The behavior of DataFrame.sum with axis=None is deprecated, in a future version this will reduce over both axes and return a scalar. To retain the old behavior, pass axis=0 (or do not pass axis)\n",
      "  return reduction(axis=axis, out=out, **passkwargs)\n"
     ]
    },
    {
     "ename": "ValueError",
     "evalue": "The truth value of a Series is ambiguous. Use a.empty, a.bool(), a.item(), a.any() or a.all().",
     "output_type": "error",
     "traceback": [
      "\u001b[1;31m---------------------------------------------------------------------------\u001b[0m",
      "\u001b[1;31mValueError\u001b[0m                                Traceback (most recent call last)",
      "\u001b[1;32m~\\AppData\\Local\\Temp\\ipykernel_21584\\1002171229.py\u001b[0m in \u001b[0;36m?\u001b[1;34m()\u001b[0m\n\u001b[1;32m----> 1\u001b[1;33m \u001b[0mmodel\u001b[0m\u001b[1;33m.\u001b[0m\u001b[0mfit\u001b[0m\u001b[1;33m(\u001b[0m\u001b[0mx_train\u001b[0m\u001b[1;33m,\u001b[0m\u001b[0my_train\u001b[0m\u001b[1;33m)\u001b[0m\u001b[1;33m\u001b[0m\u001b[1;33m\u001b[0m\u001b[0m\n\u001b[0m",
      "\u001b[1;32m~\\AppData\\Local\\Temp\\ipykernel_21584\\2130483021.py\u001b[0m in \u001b[0;36m?\u001b[1;34m(self, x, y)\u001b[0m\n\u001b[0;32m     28\u001b[0m \u001b[1;33m\u001b[0m\u001b[0m\n\u001b[0;32m     29\u001b[0m                 \u001b[0my_pred\u001b[0m \u001b[1;33m=\u001b[0m \u001b[0mself\u001b[0m\u001b[1;33m.\u001b[0m\u001b[0mtheta0\u001b[0m \u001b[1;33m+\u001b[0m \u001b[0mself\u001b[0m\u001b[1;33m.\u001b[0m\u001b[0mtheta1\u001b[0m\u001b[1;33m*\u001b[0m\u001b[0mx\u001b[0m\u001b[1;33m\u001b[0m\u001b[1;33m\u001b[0m\u001b[0m\n\u001b[0;32m     30\u001b[0m                 \u001b[0mnew_cost\u001b[0m\u001b[1;33m=\u001b[0m \u001b[1;33m(\u001b[0m\u001b[1;36m1\u001b[0m\u001b[1;33m/\u001b[0m\u001b[0mm\u001b[0m\u001b[1;33m)\u001b[0m \u001b[1;33m*\u001b[0m \u001b[0mnp\u001b[0m\u001b[1;33m.\u001b[0m\u001b[0msum\u001b[0m\u001b[1;33m(\u001b[0m\u001b[1;33m(\u001b[0m\u001b[0my\u001b[0m\u001b[1;33m-\u001b[0m\u001b[0my_pred\u001b[0m\u001b[1;33m)\u001b[0m \u001b[1;33m**\u001b[0m \u001b[1;36m2\u001b[0m\u001b[1;33m)\u001b[0m\u001b[1;33m\u001b[0m\u001b[1;33m\u001b[0m\u001b[0m\n\u001b[0;32m     31\u001b[0m \u001b[1;33m\u001b[0m\u001b[0m\n\u001b[1;32m---> 32\u001b[1;33m                 \u001b[1;32mif\u001b[0m \u001b[0mabs\u001b[0m\u001b[1;33m(\u001b[0m\u001b[1;33m(\u001b[0m\u001b[0mcost\u001b[0m \u001b[1;33m-\u001b[0m \u001b[0mnew_cost\u001b[0m\u001b[1;33m)\u001b[0m\u001b[1;33m/\u001b[0m\u001b[0mcost\u001b[0m\u001b[1;33m)\u001b[0m \u001b[1;33m<=\u001b[0m \u001b[0mself\u001b[0m\u001b[1;33m.\u001b[0m\u001b[0mtolerance\u001b[0m\u001b[1;33m:\u001b[0m\u001b[1;33m\u001b[0m\u001b[1;33m\u001b[0m\u001b[0m\n\u001b[0m\u001b[0;32m     33\u001b[0m                     \u001b[0mconverged\u001b[0m \u001b[1;33m=\u001b[0m \u001b[1;32mTrue\u001b[0m\u001b[1;33m\u001b[0m\u001b[1;33m\u001b[0m\u001b[0m\n",
      "\u001b[1;32m~\\anaconda3\\Lib\\site-packages\\pandas\\core\\generic.py\u001b[0m in \u001b[0;36m?\u001b[1;34m(self)\u001b[0m\n\u001b[0;32m   1575\u001b[0m     \u001b[1;33m@\u001b[0m\u001b[0mfinal\u001b[0m\u001b[1;33m\u001b[0m\u001b[1;33m\u001b[0m\u001b[0m\n\u001b[0;32m   1576\u001b[0m     \u001b[1;32mdef\u001b[0m \u001b[0m__nonzero__\u001b[0m\u001b[1;33m(\u001b[0m\u001b[0mself\u001b[0m\u001b[1;33m)\u001b[0m \u001b[1;33m->\u001b[0m \u001b[0mNoReturn\u001b[0m\u001b[1;33m:\u001b[0m\u001b[1;33m\u001b[0m\u001b[1;33m\u001b[0m\u001b[0m\n\u001b[1;32m-> 1577\u001b[1;33m         raise ValueError(\n\u001b[0m\u001b[0;32m   1578\u001b[0m             \u001b[1;33mf\"\u001b[0m\u001b[1;33mThe truth value of a \u001b[0m\u001b[1;33m{\u001b[0m\u001b[0mtype\u001b[0m\u001b[1;33m(\u001b[0m\u001b[0mself\u001b[0m\u001b[1;33m)\u001b[0m\u001b[1;33m.\u001b[0m\u001b[0m__name__\u001b[0m\u001b[1;33m}\u001b[0m\u001b[1;33m is ambiguous. \u001b[0m\u001b[1;33m\"\u001b[0m\u001b[1;33m\u001b[0m\u001b[1;33m\u001b[0m\u001b[0m\n\u001b[0;32m   1579\u001b[0m             \u001b[1;34m\"Use a.empty, a.bool(), a.item(), a.any() or a.all().\"\u001b[0m\u001b[1;33m\u001b[0m\u001b[1;33m\u001b[0m\u001b[0m\n\u001b[0;32m   1580\u001b[0m         \u001b[1;33m)\u001b[0m\u001b[1;33m\u001b[0m\u001b[1;33m\u001b[0m\u001b[0m\n",
      "\u001b[1;31mValueError\u001b[0m: The truth value of a Series is ambiguous. Use a.empty, a.bool(), a.item(), a.any() or a.all()."
     ]
    }
   ],
   "source": [
    "model.fit(x_train,y_train)"
   ]
  },
  {
   "cell_type": "code",
   "execution_count": 29,
   "id": "f2cfcc89-35e4-482d-8aa6-d7055070da2f",
   "metadata": {},
   "outputs": [],
   "source": [
    "class Linear_Regression:\n",
    "    def __init__(self, lr =0.5, iterations = 10000, tolerance=1e-6):\n",
    "        self.lr = lr\n",
    "        self.tolerance = tolerance\n",
    "        self.iterations = iterations\n",
    "        self.theta0=0\n",
    "        self.theta1=0\n",
    "        self.cost_history=[]\n",
    "    def fit(self,x, y):\n",
    "        m=len(x)\n",
    "        x=np.array(x)\n",
    "        y=np.array(y)\n",
    "        prev_cost = float('inf')\n",
    "\n",
    "        for i in range(self.iterations):\n",
    "            y_pred = self.theta0 + self.theta1*x\n",
    "            np.array(y_pred)\n",
    "            cost = (1/m) * np.sum((y-y_pred) ** 2)\n",
    "            self.cost_history.append(cost)\n",
    "\n",
    "            if abs(prev_cost - cost) < self.tolerance:\n",
    "                break\n",
    "            prev_cost=cost\n",
    "\n",
    "            d_theta0=d_theta0 = -(2 / m) * np.sum(y - y_pred)\n",
    "            d_theta1=d_theta1 = -(2 / m) * np.sum((y - y_pred) * x)\n",
    "\n",
    "            self.theta0 -= self.lr * d_theta0\n",
    "            self.theta1 -= self.lr * d_theta1\n",
    "\n",
    "    def predict(self,x):\n",
    "        return self.theta0 + self.theta1 * x\n"
   ]
  },
  {
   "cell_type": "code",
   "execution_count": 31,
   "id": "000464cf-0af5-42d1-8813-1821550d7687",
   "metadata": {},
   "outputs": [],
   "source": [
    "model= Linear_Regression()"
   ]
  },
  {
   "cell_type": "code",
   "execution_count": 33,
   "id": "421be64d-3032-460a-b61a-d7267ee816ca",
   "metadata": {},
   "outputs": [],
   "source": [
    "x = pd.read_csv('LinearX.csv').values.flatten()\n",
    "y = pd.read_csv('LinearY.csv').values.flatten()\n",
    "\n",
    "\n",
    "x_mean, x_std = np.mean(x), np.std(x)\n",
    "y_mean, y_std = np.mean(y), np.std(y)\n",
    "x_normalized = (x - x_mean) / x_std\n",
    "y_normalized = (y - y_mean) / y_std"
   ]
  },
  {
   "cell_type": "code",
   "execution_count": 43,
   "id": "6079b2e1-d432-4316-9431-3de6a074a6ad",
   "metadata": {},
   "outputs": [
    {
     "ename": "AttributeError",
     "evalue": "module 'pandas' has no attribute 'dataframe'",
     "output_type": "error",
     "traceback": [
      "\u001b[1;31m---------------------------------------------------------------------------\u001b[0m",
      "\u001b[1;31mAttributeError\u001b[0m                            Traceback (most recent call last)",
      "Cell \u001b[1;32mIn[43], line 3\u001b[0m\n\u001b[0;32m      1\u001b[0m model\u001b[38;5;241m.\u001b[39mfit(x_normalized,y_normalized)\n\u001b[0;32m      2\u001b[0m y_pred\u001b[38;5;241m=\u001b[39mmodel\u001b[38;5;241m.\u001b[39mpredict(x_normalized)\n\u001b[1;32m----> 3\u001b[0m pd\u001b[38;5;241m.\u001b[39mdataframe(y_pred,y_normalized)\n",
      "\u001b[1;31mAttributeError\u001b[0m: module 'pandas' has no attribute 'dataframe'"
     ]
    }
   ],
   "source": [
    "model.fit(x_normalized,y_normalized)\n",
    "y_pred=model.predict(x_normalized)\n",
    "priy_pred"
   ]
  },
  {
   "cell_type": "code",
   "execution_count": 140,
   "id": "1a79cb06-cb0b-44be-a7bd-81fc59e46c41",
   "metadata": {},
   "outputs": [],
   "source": [
    "import numpy as np\n",
    "\n",
    "class Linear_Regression:\n",
    "    def __init__(self, lr=0.5, iterations=10000, tolerance=1e-6):\n",
    "        self.lr = lr\n",
    "        self.tolerance = tolerance\n",
    "        self.iterations = iterations\n",
    "        self.theta0 = 0\n",
    "        self.theta1 = 0\n",
    "        self.cost_history = []\n",
    "\n",
    "    def fit(self, x: np.ndarray, y: np.ndarray) -> None:\n",
    "        m = len(x)\n",
    "        x = np.array(x)\n",
    "        y = np.array(y)\n",
    "        prev_cost = float('inf')\n",
    "\n",
    "        for _ in range(self.iterations):\n",
    "            y_pred = self.theta0 + self.theta1 * x\n",
    "            cost = (1 / m) * np.sum((y - y_pred) ** 2)\n",
    "            self.cost_history.append(cost)\n",
    "\n",
    "            # Check for convergence\n",
    "            if abs(prev_cost - cost) < self.tolerance:\n",
    "                break\n",
    "            prev_cost = cost\n",
    "\n",
    "            # Compute gradients\n",
    "            d_theta0 = -(2 / m) * np.sum(y - y_pred)\n",
    "            d_theta1 = -(2 / m) * np.sum((y - y_pred) * x)\n",
    "\n",
    "            # Update parameters\n",
    "            self.theta0 -= self.lr * d_theta0\n",
    "            self.theta1 -= self.lr * d_theta1\n",
    "\n",
    "    def predict(self, x: np.ndarray) -> np.ndarray:\n",
    "        x = np.array(x)\n",
    "        return self.theta0 + self.theta1 * x\n"
   ]
  },
  {
   "cell_type": "code",
   "execution_count": 142,
   "id": "731fd83e-6670-4d7b-b6b7-f6b05cff9492",
   "metadata": {},
   "outputs": [
    {
     "name": "stdout",
     "output_type": "stream",
     "text": [
      "[-3.78356147e+136 -4.38632890e+136 -4.98909632e+136]\n"
     ]
    }
   ],
   "source": [
    "# Create dataset\n",
    "x = [1, 2, 3, 4, 5]\n",
    "y = [2, 4, 6, 8, 10]\n",
    "\n",
    "# Initialize the model\n",
    "model = Linear_Regression(lr=0.1, iterations=1000)\n",
    "\n",
    "# Fit the model\n",
    "model.fit(x, y)\n",
    "\n",
    "# Predict\n",
    "predictions = model.predict([6, 7, 8])\n",
    "print(predictions)  # Should output predictions close to 12, 14, 16\n"
   ]
  },
  {
   "cell_type": "code",
   "execution_count": null,
   "id": "de7c6846-a89f-439e-bd1d-05f0bfc732c1",
   "metadata": {},
   "outputs": [],
   "source": []
  }
 ],
 "metadata": {
  "kernelspec": {
   "display_name": "Python [conda env:base] *",
   "language": "python",
   "name": "conda-base-py"
  },
  "language_info": {
   "codemirror_mode": {
    "name": "ipython",
    "version": 3
   },
   "file_extension": ".py",
   "mimetype": "text/x-python",
   "name": "python",
   "nbconvert_exporter": "python",
   "pygments_lexer": "ipython3",
   "version": "3.12.7"
  }
 },
 "nbformat": 4,
 "nbformat_minor": 5
}
